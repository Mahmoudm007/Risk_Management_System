{
 "cells": [
  {
   "cell_type": "code",
   "execution_count": 14,
   "metadata": {},
   "outputs": [
    {
     "name": "stdout",
     "output_type": "stream",
     "text": [
      "  Component   Material  Weight (grams) Complexity  Cost (USD)\n",
      "0     Comp1    Plastic      289.396418     Medium  590.375528\n",
      "1     Comp2  Composite      224.914742        Low  831.893213\n",
      "2     Comp3      Metal      494.303181        Low  630.836934\n",
      "3     Comp4    Plastic       60.001957       High  873.287402\n",
      "4     Comp5  Composite      112.349610     Medium  277.174325\n"
     ]
    }
   ],
   "source": [
    "import pandas as pd\n",
    "import numpy as np\n",
    "\n",
    "# Generating synthetic data\n",
    "np.random.seed(0)\n",
    "data = {\n",
    "    'Component': ['Comp' + str(i) for i in range(1, 101)],\n",
    "    'Material': np.random.choice(['Plastic', 'Metal', 'Ceramic', 'Composite'], 100),\n",
    "    'Weight (grams)': np.random.uniform(10, 500, 100),\n",
    "    'Complexity': np.random.choice(['Low', 'Medium', 'High'], 100),\n",
    "    'Cost (USD)': np.random.uniform(5, 1000, 100)\n",
    "}\n",
    "\n",
    "# Creating a DataFrame\n",
    "df = pd.DataFrame(data)\n",
    "print(df.head())\n"
   ]
  },
  {
   "cell_type": "code",
   "execution_count": 15,
   "metadata": {},
   "outputs": [
    {
     "name": "stdout",
     "output_type": "stream",
     "text": [
      "  Component  Material  Weight (grams)  Complexity  Cost (USD)\n",
      "0     Comp1         3      289.396418           2  590.375528\n",
      "1     Comp2         1      224.914742           1  831.893213\n",
      "2     Comp3         2      494.303181           1  630.836934\n",
      "3     Comp4         3       60.001957           0  873.287402\n",
      "4     Comp5         1      112.349610           2  277.174325\n"
     ]
    }
   ],
   "source": [
    "from sklearn.preprocessing import LabelEncoder\n",
    "\n",
    "# Initialize LabelEncoders for each categorical feature\n",
    "material_encoder = LabelEncoder()\n",
    "complexity_encoder = LabelEncoder()\n",
    "\n",
    "# Fit LabelEncoders on the existing data\n",
    "df['Material'] = material_encoder.fit_transform(df['Material'])\n",
    "df['Complexity'] = complexity_encoder.fit_transform(df['Complexity'])\n",
    "print(df.head())\n"
   ]
  },
  {
   "cell_type": "code",
   "execution_count": 17,
   "metadata": {},
   "outputs": [
    {
     "name": "stdout",
     "output_type": "stream",
     "text": [
      "Mean Squared Error: 109980.92401966832\n"
     ]
    }
   ],
   "source": [
    "from sklearn.model_selection import train_test_split\n",
    "from sklearn.ensemble import RandomForestRegressor\n",
    "from sklearn.metrics import mean_squared_error\n",
    "\n",
    "# Splitting data into features and target variable\n",
    "X = df[['Material', 'Weight (grams)', 'Complexity']]\n",
    "y = df['Cost (USD)']\n",
    "\n",
    "# Splitting data into training and testing sets\n",
    "X_train, X_test, y_train, y_test = train_test_split(X, y, test_size=0.2, random_state=0)\n",
    "\n",
    "# Training the model\n",
    "model = RandomForestRegressor(n_estimators=100, random_state=0)\n",
    "model.fit(X_train, y_train)\n",
    "\n",
    "# Evaluating the model\n",
    "y_pred = model.predict(X_test)\n",
    "print(\"Mean Squared Error:\", mean_squared_error(y_test, y_pred))\n"
   ]
  },
  {
   "cell_type": "code",
   "execution_count": 18,
   "metadata": {},
   "outputs": [
    {
     "name": "stdout",
     "output_type": "stream",
     "text": [
      "Predicted cost for the new component: $416.27\n"
     ]
    }
   ],
   "source": [
    "def encode_features(material, complexity):\n",
    "    # Check if the new inputs are in the encoder's classes\n",
    "    if material not in material_encoder.classes_:\n",
    "        material_encoder.classes_ = np.append(material_encoder.classes_, material)\n",
    "    if complexity not in complexity_encoder.classes_:\n",
    "        complexity_encoder.classes_ = np.append(complexity_encoder.classes_, complexity)\n",
    "\n",
    "    # Encode the inputs\n",
    "    material_encoded = material_encoder.transform([material])[0]\n",
    "    complexity_encoded = complexity_encoder.transform([complexity])[0]\n",
    "    \n",
    "    return material_encoded, complexity_encoded\n",
    "\n",
    "def predict_cost(material, weight, complexity):\n",
    "    material_encoded, complexity_encoded = encode_features(material, complexity)\n",
    "    \n",
    "    # Creating a DataFrame for the new component\n",
    "    new_component = pd.DataFrame({\n",
    "        'Material': [material_encoded],\n",
    "        'Weight (grams)': [weight],\n",
    "        'Complexity': [complexity_encoded]\n",
    "    })\n",
    "    \n",
    "    # Predicting the cost\n",
    "    predicted_cost = model.predict(new_component)[0]\n",
    "    return predicted_cost\n",
    "\n",
    "# Example usage\n",
    "new_material = 'Plastic'\n",
    "new_weight = 150  # grams\n",
    "new_complexity = 'Medium'\n",
    "\n",
    "predicted_cost = predict_cost(new_material, new_weight, new_complexity)\n",
    "print(f\"Predicted cost for the new component: ${predicted_cost:.2f}\")\n"
   ]
  },
  {
   "cell_type": "code",
   "execution_count": 19,
   "metadata": {},
   "outputs": [
    {
     "name": "stdout",
     "output_type": "stream",
     "text": [
      "Overall budget needed: $1527.67\n"
     ]
    }
   ],
   "source": [
    "def calculate_overall_budget(components):\n",
    "    total_cost = 0\n",
    "    for component in components:\n",
    "        material, weight, complexity = component\n",
    "        total_cost += predict_cost(material, weight, complexity)\n",
    "    return total_cost\n",
    "\n",
    "# Example usage\n",
    "components = [\n",
    "    ('Plastic', 150, 'Medium'),\n",
    "    ('Metal', 200, 'High'),\n",
    "    ('Ceramic', 100, 'Low')\n",
    "]\n",
    "\n",
    "overall_budget = calculate_overall_budget(components)\n",
    "print(f\"Overall budget needed: ${overall_budget:.2f}\")\n"
   ]
  },
  {
   "cell_type": "code",
   "execution_count": 20,
   "metadata": {},
   "outputs": [
    {
     "name": "stdout",
     "output_type": "stream",
     "text": [
      "Mean Squared Error: 109980.92401966832\n",
      "Initial budget: $1302.86\n",
      "New budget: $1252.22\n",
      "Budget difference: $-50.64\n"
     ]
    }
   ],
   "source": [
    "import pandas as pd\n",
    "import numpy as np\n",
    "from sklearn.preprocessing import LabelEncoder\n",
    "from sklearn.model_selection import train_test_split\n",
    "from sklearn.ensemble import RandomForestRegressor\n",
    "from sklearn.metrics import mean_squared_error\n",
    "\n",
    "# Generating synthetic data\n",
    "np.random.seed(0)\n",
    "data = {\n",
    "    'Component': ['Comp' + str(i) for i in range(1, 101)],\n",
    "    'Material': np.random.choice(['Plastic', 'Metal', 'Ceramic', 'Composite'], 100),\n",
    "    'Weight (grams)': np.random.uniform(10, 500, 100),\n",
    "    'Complexity': np.random.choice(['Low', 'Medium', 'High'], 100),\n",
    "    'Cost (USD)': np.random.uniform(5, 1000, 100)\n",
    "}\n",
    "\n",
    "# Creating a DataFrame\n",
    "df = pd.DataFrame(data)\n",
    "\n",
    "# Initialize LabelEncoders for each categorical feature\n",
    "material_encoder = LabelEncoder()\n",
    "complexity_encoder = LabelEncoder()\n",
    "\n",
    "# Fit LabelEncoders on the existing data\n",
    "df['Material'] = material_encoder.fit_transform(df['Material'])\n",
    "df['Complexity'] = complexity_encoder.fit_transform(df['Complexity'])\n",
    "\n",
    "# Splitting data into features and target variable\n",
    "X = df[['Material', 'Weight (grams)', 'Complexity']]\n",
    "y = df['Cost (USD)']\n",
    "\n",
    "# Splitting data into training and testing sets\n",
    "X_train, X_test, y_train, y_test = train_test_split(X, y, test_size=0.2, random_state=0)\n",
    "\n",
    "# Training the model\n",
    "model = RandomForestRegressor(n_estimators=100, random_state=0)\n",
    "model.fit(X_train, y_train)\n",
    "\n",
    "# Evaluating the model\n",
    "y_pred = model.predict(X_test)\n",
    "print(\"Mean Squared Error:\", mean_squared_error(y_test, y_pred))\n",
    "\n",
    "# Functions to encode new features and predict cost\n",
    "def encode_features(material, complexity):\n",
    "    # Check if the new inputs are in the encoder's classes\n",
    "    if material not in material_encoder.classes_:\n",
    "        material_encoder.classes_ = np.append(material_encoder.classes_, material)\n",
    "    if complexity not in complexity_encoder.classes_:\n",
    "        complexity_encoder.classes_ = np.append(complexity_encoder.classes_, complexity)\n",
    "\n",
    "    # Encode the inputs\n",
    "    material_encoded = material_encoder.transform([material])[0]\n",
    "    complexity_encoded = complexity_encoder.transform([complexity])[0]\n",
    "    \n",
    "    return material_encoded, complexity_encoded\n",
    "\n",
    "def predict_cost(material, weight, complexity):\n",
    "    material_encoded, complexity_encoded = encode_features(material, complexity)\n",
    "    \n",
    "    # Creating a DataFrame for the new component\n",
    "    new_component = pd.DataFrame({\n",
    "        'Material': [material_encoded],\n",
    "        'Weight (grams)': [weight],\n",
    "        'Complexity': [complexity_encoded]\n",
    "    })\n",
    "    \n",
    "    # Predicting the cost\n",
    "    predicted_cost = model.predict(new_component)[0]\n",
    "    return predicted_cost\n",
    "\n",
    "def calculate_overall_budget(components):\n",
    "    total_cost = 0\n",
    "    for component in components:\n",
    "        material, weight, complexity = component\n",
    "        total_cost += predict_cost(material, weight, complexity)\n",
    "    return total_cost\n",
    "\n",
    "# Example usage\n",
    "components = [\n",
    "    ('Plastic', 150, 'Medium'),\n",
    "    ('Metal', 200, 'High'),\n",
    "    ('Ceramic', 100, 'Low')\n",
    "]\n",
    "\n",
    "# Calculate budget before change\n",
    "initial_budget = calculate_overall_budget(components)\n",
    "\n",
    "# Change a component and calculate the new budget\n",
    "def change_component(components, index, new_component):\n",
    "    components[index] = new_component\n",
    "    return components\n",
    "\n",
    "# New component details\n",
    "new_component = ('Composite', 180, 'High')\n",
    "\n",
    "# Change the second component (index 1) in the list\n",
    "updated_components = change_component(components, 1, new_component)\n",
    "\n",
    "# Calculate budget after change\n",
    "new_budget = calculate_overall_budget(updated_components)\n",
    "\n",
    "# Calculate budget difference\n",
    "budget_difference = new_budget - initial_budget\n",
    "\n",
    "print(f\"Initial budget: ${initial_budget:.2f}\")\n",
    "print(f\"New budget: ${new_budget:.2f}\")\n",
    "print(f\"Budget difference: ${budget_difference:.2f}\")\n"
   ]
  },
  {
   "cell_type": "code",
   "execution_count": null,
   "metadata": {},
   "outputs": [],
   "source": []
  }
 ],
 "metadata": {
  "kernelspec": {
   "display_name": "venv",
   "language": "python",
   "name": "python3"
  },
  "language_info": {
   "codemirror_mode": {
    "name": "ipython",
    "version": 3
   },
   "file_extension": ".py",
   "mimetype": "text/x-python",
   "name": "python",
   "nbconvert_exporter": "python",
   "pygments_lexer": "ipython3",
   "version": "3.11.9"
  }
 },
 "nbformat": 4,
 "nbformat_minor": 2
}
